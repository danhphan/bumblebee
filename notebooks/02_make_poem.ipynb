{
 "cells": [
  {
   "cell_type": "code",
   "execution_count": 8,
   "id": "0702a7d4",
   "metadata": {},
   "outputs": [],
   "source": [
    "import transformers\n",
    "from transformers import pipeline"
   ]
  },
  {
   "cell_type": "code",
   "execution_count": 9,
   "id": "ef250ff4",
   "metadata": {},
   "outputs": [],
   "source": [
    "generator = pipeline(\"text-generation\", model=\"gpt2\")"
   ]
  },
  {
   "cell_type": "code",
   "execution_count": 10,
   "id": "0b34a32a",
   "metadata": {},
   "outputs": [],
   "source": [
    "poem_title = \"The best song\"\n",
    "sentences = 5"
   ]
  },
  {
   "cell_type": "code",
   "execution_count": 18,
   "id": "78da6074",
   "metadata": {},
   "outputs": [
    {
     "name": "stderr",
     "output_type": "stream",
     "text": [
      "Using pad_token, but it is not set yet.\n",
      "Setting `pad_token_id` to `eos_token_id`:50256 for open-end generation.\n",
      "Using pad_token, but it is not set yet.\n",
      "Setting `pad_token_id` to `eos_token_id`:50256 for open-end generation.\n",
      "Using pad_token, but it is not set yet.\n",
      "Setting `pad_token_id` to `eos_token_id`:50256 for open-end generation.\n"
     ]
    },
    {
     "name": "stdout",
     "output_type": "stream",
     "text": [
      " with three songs in an album makes\n",
      " a sound far\n"
     ]
    },
    {
     "name": "stderr",
     "output_type": "stream",
     "text": [
      "Using pad_token, but it is not set yet.\n",
      "Setting `pad_token_id` to `eos_token_id`:50256 for open-end generation.\n",
      "Using pad_token, but it is not set yet.\n",
      "Setting `pad_token_id` to `eos_token_id`:50256 for open-end generation.\n"
     ]
    },
    {
     "name": "stdout",
     "output_type": "stream",
     "text": [
      " from what you hear in a city\n",
      ", where the\n",
      " city could only claim to be the\n"
     ]
    }
   ],
   "source": [
    "prev_sentence = poem_title\n",
    "\n",
    "for idx in range(sentences):\n",
    "    sentence = generator(prev_sentence, max_length= 10)\n",
    "    sentence = sentence[0]['generated_text'][len(prev_sentence):]\n",
    "    print(sentence)\n",
    "    prev_sentence = sentence"
   ]
  },
  {
   "cell_type": "code",
   "execution_count": null,
   "id": "c5b12483",
   "metadata": {},
   "outputs": [],
   "source": []
  }
 ],
 "metadata": {
  "kernelspec": {
   "display_name": "Python 3",
   "language": "python",
   "name": "python3"
  },
  "language_info": {
   "codemirror_mode": {
    "name": "ipython",
    "version": 3
   },
   "file_extension": ".py",
   "mimetype": "text/x-python",
   "name": "python",
   "nbconvert_exporter": "python",
   "pygments_lexer": "ipython3",
   "version": "3.6.9"
  }
 },
 "nbformat": 4,
 "nbformat_minor": 5
}
